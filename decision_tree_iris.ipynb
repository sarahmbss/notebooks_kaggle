{
 "cells": [
  {
   "cell_type": "markdown",
   "id": "4527f718-babc-45e4-af66-48a36ec8a019",
   "metadata": {},
   "source": [
    "### Objetivo do notebook\n",
    "\n",
    "A base utilizada nesta análise é a Iris. Ela consiste em amostras de 3 espécies de Iris (setorsa, virgínica e versicolor). Essas seriam as classes do nosso algoritmo. Além disso, temos 4 variáveis utilizadas para realizar a classificação: comprimento e largura de cada pétala e sépala, em centímetros.\n",
    "\n",
    "É uma base clássica para trabalhar algoritmos de classificação, sendo esse o propósito da análise em questão. "
   ]
  },
  {
   "cell_type": "markdown",
   "id": "8db1b381-e4a9-45ee-90ab-81959af7dc7a",
   "metadata": {},
   "source": [
    "#### Bibliotecas utilizadas"
   ]
  },
  {
   "cell_type": "code",
   "execution_count": 2,
   "id": "13df60c7-0a51-4021-abe8-a49ef290a0b9",
   "metadata": {},
   "outputs": [],
   "source": [
    "from sklearn.model_selection import train_test_split\n",
    "from sklearn import datasets\n",
    "import pandas as pd\n",
    "from sklearn.metrics import confusion_matrix, accuracy_score\n",
    "from sklearn.tree import DecisionTreeClassifier\n",
    "from sklearn.tree import export_graphviz"
   ]
  },
  {
   "cell_type": "markdown",
   "id": "4da9c839-00d7-4511-9e4a-b49e8c8ca3ee",
   "metadata": {},
   "source": [
    "#### Importação da base"
   ]
  },
  {
   "cell_type": "code",
   "execution_count": 3,
   "id": "1c092080-ae7c-43c9-bea7-b8437542bfe5",
   "metadata": {},
   "outputs": [],
   "source": [
    "iris = datasets.load_iris()"
   ]
  },
  {
   "cell_type": "markdown",
   "id": "a9152b39-f7f2-44c6-8be2-df2307accfd5",
   "metadata": {},
   "source": [
    "#### Tratamento dos dados"
   ]
  },
  {
   "cell_type": "code",
   "execution_count": 4,
   "id": "a2150155-c60e-4521-a4c5-50719805619d",
   "metadata": {},
   "outputs": [],
   "source": [
    "#criação dos previsores\n",
    "previsores = iris.data\n",
    "classe = iris.target"
   ]
  },
  {
   "cell_type": "code",
   "execution_count": 5,
   "id": "a9b33535-85f4-4973-beb6-7e028ac53419",
   "metadata": {},
   "outputs": [],
   "source": [
    "X_treinamento, X_teste, y_treinamento, y_teste = train_test_split(previsores, classe, test_size = 0.3, random_state=0)"
   ]
  },
  {
   "cell_type": "markdown",
   "id": "bb729409-03c9-452a-b4d7-a42fe85d98c2",
   "metadata": {},
   "source": [
    "#### Construção do modelo"
   ]
  },
  {
   "cell_type": "code",
   "execution_count": 6,
   "id": "402e14a1-ff23-4dea-9a66-4242988af6db",
   "metadata": {},
   "outputs": [
    {
     "data": {
      "text/plain": [
       "DecisionTreeClassifier()"
      ]
     },
     "execution_count": 6,
     "metadata": {},
     "output_type": "execute_result"
    }
   ],
   "source": [
    "arvore = DecisionTreeClassifier()\n",
    "arvore.fit(X_treinamento, y_treinamento)"
   ]
  },
  {
   "cell_type": "code",
   "execution_count": 8,
   "id": "ca2ebca1-404d-4fd8-8284-8d3ab336fb11",
   "metadata": {},
   "outputs": [],
   "source": [
    "export_graphviz(arvore, out_file='tree.dot') "
   ]
  },
  {
   "cell_type": "markdown",
   "id": "b09b683c-9628-46a3-b498-2c2e46bb75d5",
   "metadata": {},
   "source": [
    "Com o arquivo gerado acima, entramos no site http://webgraphviz.com/ e colocamos a descrição abaixo:"
   ]
  },
  {
   "cell_type": "code",
   "execution_count": null,
   "id": "f40bcc6b-f41a-4650-b3f2-cec7bcc84536",
   "metadata": {},
   "outputs": [],
   "source": [
    "digraph Tree {\n",
    "node [shape=box, fontname=\"helvetica\"] ;\n",
    "edge [fontname=\"helvetica\"] ;\n",
    "0 [label=\"X[3] <= 0.75\\ngini = 0.664\\nsamples = 105\\nvalue = [34, 32, 39]\"] ;\n",
    "1 [label=\"gini = 0.0\\nsamples = 34\\nvalue = [34, 0, 0]\"] ;\n",
    "0 -> 1 [labeldistance=2.5, labelangle=45, headlabel=\"True\"] ;\n",
    "2 [label=\"X[2] <= 4.95\\ngini = 0.495\\nsamples = 71\\nvalue = [0, 32, 39]\"] ;\n",
    "0 -> 2 [labeldistance=2.5, labelangle=-45, headlabel=\"False\"] ;\n",
    "3 [label=\"X[3] <= 1.65\\ngini = 0.161\\nsamples = 34\\nvalue = [0, 31, 3]\"] ;\n",
    "2 -> 3 ;\n",
    "4 [label=\"gini = 0.0\\nsamples = 30\\nvalue = [0, 30, 0]\"] ;\n",
    "3 -> 4 ;\n",
    "5 [label=\"X[1] <= 3.1\\ngini = 0.375\\nsamples = 4\\nvalue = [0, 1, 3]\"] ;\n",
    "3 -> 5 ;\n",
    "6 [label=\"gini = 0.0\\nsamples = 3\\nvalue = [0, 0, 3]\"] ;\n",
    "5 -> 6 ;\n",
    "7 [label=\"gini = 0.0\\nsamples = 1\\nvalue = [0, 1, 0]\"] ;\n",
    "5 -> 7 ;\n",
    "8 [label=\"X[2] <= 5.05\\ngini = 0.053\\nsamples = 37\\nvalue = [0, 1, 36]\"] ;\n",
    "2 -> 8 ;\n",
    "9 [label=\"X[0] <= 6.5\\ngini = 0.375\\nsamples = 4\\nvalue = [0, 1, 3]\"] ;\n",
    "8 -> 9 ;\n",
    "10 [label=\"gini = 0.0\\nsamples = 3\\nvalue = [0, 0, 3]\"] ;\n",
    "9 -> 10 ;\n",
    "11 [label=\"gini = 0.0\\nsamples = 1\\nvalue = [0, 1, 0]\"] ;\n",
    "9 -> 11 ;\n",
    "12 [label=\"gini = 0.0\\nsamples = 33\\nvalue = [0, 0, 33]\"] ;\n",
    "8 -> 12 ;\n",
    "}"
   ]
  },
  {
   "cell_type": "code",
   "execution_count": 10,
   "id": "ab377b4e-51ad-4118-9950-21f64e9652e4",
   "metadata": {},
   "outputs": [],
   "source": [
    "previsoes = arvore.predict(X_teste)"
   ]
  },
  {
   "cell_type": "markdown",
   "id": "7737369f-11e6-420b-ae78-f2453613ed6a",
   "metadata": {},
   "source": [
    "#### Medidas de desempenho"
   ]
  },
  {
   "cell_type": "code",
   "execution_count": 13,
   "id": "698cdd20-e8af-4895-b35e-2ca8baf737fd",
   "metadata": {},
   "outputs": [],
   "source": [
    "#matriz de confusão\n",
    "confusao = confusion_matrix(y_teste, previsoes)\n",
    "\n",
    "#taxa de acerto\n",
    "taxa_acerto = accuracy_score(y_teste, previsoes)"
   ]
  },
  {
   "cell_type": "code",
   "execution_count": 14,
   "id": "608fad0f-3fcd-4932-8687-a024c880148d",
   "metadata": {},
   "outputs": [
    {
     "data": {
      "text/plain": [
       "array([[16,  0,  0],\n",
       "       [ 0, 17,  1],\n",
       "       [ 0,  0, 11]], dtype=int64)"
      ]
     },
     "execution_count": 14,
     "metadata": {},
     "output_type": "execute_result"
    }
   ],
   "source": [
    "confusao"
   ]
  },
  {
   "cell_type": "code",
   "execution_count": 15,
   "id": "a2be72c0-db5a-4e49-be75-4caee32a7b90",
   "metadata": {},
   "outputs": [
    {
     "data": {
      "text/plain": [
       "0.9777777777777777"
      ]
     },
     "execution_count": 15,
     "metadata": {},
     "output_type": "execute_result"
    }
   ],
   "source": [
    "taxa_acerto"
   ]
  }
 ],
 "metadata": {
  "kernelspec": {
   "display_name": "Python 3 (ipykernel)",
   "language": "python",
   "name": "python3"
  },
  "language_info": {
   "codemirror_mode": {
    "name": "ipython",
    "version": 3
   },
   "file_extension": ".py",
   "mimetype": "text/x-python",
   "name": "python",
   "nbconvert_exporter": "python",
   "pygments_lexer": "ipython3",
   "version": "3.7.3"
  }
 },
 "nbformat": 4,
 "nbformat_minor": 5
}
